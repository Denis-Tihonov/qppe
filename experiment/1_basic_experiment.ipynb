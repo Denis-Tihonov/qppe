{
 "cells": [
  {
   "cell_type": "markdown",
   "id": "44ebaf9e-5fc8-4507-ae75-faff6aedbcc3",
   "metadata": {},
   "source": [
    "# Basic experiment over walk, run and bike ride"
   ]
  },
  {
   "cell_type": "code",
   "execution_count": 1,
   "id": "cfc7278d-b1db-44c6-90b3-68f74641cdf8",
   "metadata": {},
   "outputs": [],
   "source": [
    "import sys\n",
    "import warnings\n",
    "import math as m\n",
    "import numpy as np\n",
    "import pandas as pd\n",
    "import matplotlib.cm as cm\n",
    "import matplotlib.pyplot as plt\n",
    "from tqdm import tqdm\n",
    "\n",
    "from sklearn.decomposition import PCA\n",
    "from statsmodels.tsa.stattools import acf\n",
    "\n",
    "import scipy\n",
    "from scipy.signal import find_peaks\n",
    "from scipy.spatial import distance_matrix\n",
    "\n",
    "sys.path.insert(0, \"./../\")\n",
    "from qppe.visuals import (\n",
    "    plot_short_timeseries,\n",
    "    plot_phase_trajectory,\n",
    "    plot_phase_trajectory_and_phase\n",
    ")\n",
    "from qppe.qppe import (\n",
    "    delay_embedding_matrix,\n",
    "    QPPE\n",
    ")"
   ]
  },
  {
   "cell_type": "code",
   "execution_count": 2,
   "id": "7caf4123-116b-4145-bde7-d36e07eae8a7",
   "metadata": {},
   "outputs": [],
   "source": [
    "warnings.simplefilter('ignore')"
   ]
  },
  {
   "cell_type": "code",
   "execution_count": 3,
   "id": "958f5631-007c-4c22-8932-4ef2b01f6226",
   "metadata": {},
   "outputs": [],
   "source": [
    "def prepare_time_series(path, centred = True):\n",
    "    data = pd.read_csv(path, delimiter =';', decimal=',')\n",
    "    \n",
    "    frequency = len(data)/(data['time'].values[-1]-data['time'].values[0])\n",
    "    time_series = ((data['X_value'].values)**2 + (data['Y_value'].values)**2 + (data['Z_value'].values)**2)**.5\n",
    "    \n",
    "    if centred:\n",
    "        time_series = (time_series - np.mean(time_series))\n",
    "        \n",
    "    time_points = (data['time'].values).astype(float).reshape([-1,])\n",
    "    time_points = np.linspace(0,time_points[-1]-time_points[0],len(time_series))\n",
    "\n",
    "    return time_series,time_points"
   ]
  },
  {
   "cell_type": "code",
   "execution_count": null,
   "id": "c9a6a433-fe6e-4550-a32d-39e7269126b5",
   "metadata": {},
   "outputs": [
    {
     "name": "stderr",
     "output_type": "stream",
     "text": [
      " 60%|██████    | 7518/12501 [00:39<00:07, 706.60it/s] "
     ]
    }
   ],
   "source": [
    "x_acc, t = prepare_time_series('./../data/basic_experiment_walk.csv', centred = False)\n",
    "x_acc = x_acc[7000:20000]\n",
    "\n",
    "X_h = delay_embedding_matrix(x_acc, 500)\n",
    "\n",
    "pca = PCA(n_components = 4)\n",
    "X_PCA = pca.fit_transform(X_h)\n",
    "\n",
    "phase_trajectory = X_PCA[::3,:3]\n",
    "\n",
    "result_dict = QPPE(x = x_acc, update_coef = 3, return_expectation_model = True)"
   ]
  },
  {
   "cell_type": "code",
   "execution_count": null,
   "id": "7ac23892-1c5c-4633-817c-e4bd8eb7f758",
   "metadata": {},
   "outputs": [],
   "source": [
    "phase_trajectory = X_PCA[::5,:3]\n",
    "expextation_values = result_dict['expectation'][:500:,:3]\n",
    "phase_history = result_dict['phase'][::5]"
   ]
  },
  {
   "cell_type": "code",
   "execution_count": null,
   "id": "ed50a5ae-c145-448b-a0fa-d53251ee92fd",
   "metadata": {},
   "outputs": [],
   "source": [
    "plt.rcParams['figure.figsize'] = 5, 5\n",
    "plot_short_timeseries(x_acc[:1000], 500)\n",
    "plot_phase_trajectory(phase_trajectory)\n",
    "\n",
    "plt.rcParams['figure.figsize'] = 10, 10\n",
    "plot_phase_trajectory_and_phase(\n",
    "    phase_trajectory,\n",
    "    expextation_values,\n",
    "    phase_history,\n",
    "    rotation = (0, 30, 0)\n",
    ")"
   ]
  },
  {
   "cell_type": "code",
   "execution_count": null,
   "id": "3388ecab-f519-4c2b-9d93-6fb4d3eee409",
   "metadata": {},
   "outputs": [],
   "source": []
  },
  {
   "cell_type": "code",
   "execution_count": null,
   "id": "4c34bc07-dd46-4a8d-9fbc-107b25645662",
   "metadata": {},
   "outputs": [],
   "source": []
  }
 ],
 "metadata": {
  "kernelspec": {
   "display_name": "Python 3 (ipykernel)",
   "language": "python",
   "name": "python3"
  },
  "language_info": {
   "codemirror_mode": {
    "name": "ipython",
    "version": 3
   },
   "file_extension": ".py",
   "mimetype": "text/x-python",
   "name": "python",
   "nbconvert_exporter": "python",
   "pygments_lexer": "ipython3",
   "version": "3.8.18"
  }
 },
 "nbformat": 4,
 "nbformat_minor": 5
}
